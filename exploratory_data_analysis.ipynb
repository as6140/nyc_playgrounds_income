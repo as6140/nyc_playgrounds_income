{
 "cells": [
  {
   "cell_type": "code",
   "execution_count": 1,
   "metadata": {},
   "outputs": [],
   "source": [
    "import pandas as pd\n",
    "\n",
    "income_df = pd.read_excel('ny_zip_income.xls',header=3,usecols=[0,1,2,16,17,18])"
   ]
  },
  {
   "cell_type": "code",
   "execution_count": 2,
   "metadata": {},
   "outputs": [
    {
     "data": {
      "text/html": [
       "<div>\n",
       "<style scoped>\n",
       "    .dataframe tbody tr th:only-of-type {\n",
       "        vertical-align: middle;\n",
       "    }\n",
       "\n",
       "    .dataframe tbody tr th {\n",
       "        vertical-align: top;\n",
       "    }\n",
       "\n",
       "    .dataframe thead th {\n",
       "        text-align: right;\n",
       "    }\n",
       "</style>\n",
       "<table border=\"1\" class=\"dataframe\">\n",
       "  <thead>\n",
       "    <tr style=\"text-align: right;\">\n",
       "      <th></th>\n",
       "      <th>0</th>\n",
       "      <th>1</th>\n",
       "      <th>2</th>\n",
       "      <th>3</th>\n",
       "      <th>4</th>\n",
       "    </tr>\n",
       "  </thead>\n",
       "  <tbody>\n",
       "    <tr>\n",
       "      <th>ZIP\\ncode [1]</th>\n",
       "      <td>NaN</td>\n",
       "      <td>NaN</td>\n",
       "      <td>0</td>\n",
       "      <td>0</td>\n",
       "      <td>0</td>\n",
       "    </tr>\n",
       "    <tr>\n",
       "      <th>Size of adjusted gross income</th>\n",
       "      <td>NaN</td>\n",
       "      <td>NaN</td>\n",
       "      <td>Total</td>\n",
       "      <td>$1 under $25,000</td>\n",
       "      <td>$25,000 under $50,000</td>\n",
       "    </tr>\n",
       "    <tr>\n",
       "      <th>Number of returns</th>\n",
       "      <td>NaN</td>\n",
       "      <td>-1</td>\n",
       "      <td>9.46806e+06</td>\n",
       "      <td>3.44531e+06</td>\n",
       "      <td>2.12396e+06</td>\n",
       "    </tr>\n",
       "    <tr>\n",
       "      <th>Adjusted gross income (AGI) [4]</th>\n",
       "      <td>NaN</td>\n",
       "      <td>-15</td>\n",
       "      <td>7.84411e+08</td>\n",
       "      <td>4.19902e+07</td>\n",
       "      <td>7.72745e+07</td>\n",
       "    </tr>\n",
       "    <tr>\n",
       "      <th>Total income</th>\n",
       "      <td>Number of returns</td>\n",
       "      <td>-16</td>\n",
       "      <td>9468050</td>\n",
       "      <td>3445290</td>\n",
       "      <td>2123960</td>\n",
       "    </tr>\n",
       "    <tr>\n",
       "      <th>Unnamed: 18</th>\n",
       "      <td>Amount</td>\n",
       "      <td>-17</td>\n",
       "      <td>795119743</td>\n",
       "      <td>42897756</td>\n",
       "      <td>78326525</td>\n",
       "    </tr>\n",
       "  </tbody>\n",
       "</table>\n",
       "</div>"
      ],
      "text/plain": [
       "                                                 0    1            2  \\\n",
       "ZIP\\ncode [1]                                  NaN  NaN            0   \n",
       "Size of adjusted gross income                  NaN  NaN        Total   \n",
       "Number of returns                              NaN   -1  9.46806e+06   \n",
       "Adjusted gross income (AGI) [4]                NaN  -15  7.84411e+08   \n",
       "Total income                     Number of returns  -16      9468050   \n",
       "Unnamed: 18                                 Amount  -17    795119743   \n",
       "\n",
       "                                                3                      4  \n",
       "ZIP\\ncode [1]                                   0                      0  \n",
       "Size of adjusted gross income    $1 under $25,000  $25,000 under $50,000  \n",
       "Number of returns                     3.44531e+06            2.12396e+06  \n",
       "Adjusted gross income (AGI) [4]       4.19902e+07            7.72745e+07  \n",
       "Total income                              3445290                2123960  \n",
       "Unnamed: 18                              42897756               78326525  "
      ]
     },
     "execution_count": 2,
     "metadata": {},
     "output_type": "execute_result"
    }
   ],
   "source": [
    "income_df.head().T"
   ]
  },
  {
   "cell_type": "code",
   "execution_count": 3,
   "metadata": {},
   "outputs": [],
   "source": [
    "income_df = income_df.rename(columns={income_df.columns[0]: \"zip_code\", \n",
    "                                      income_df.columns[1]: \"agi_bucket\", \n",
    "                                      income_df.columns[2]: \"num_returns\", \n",
    "                                      income_df.columns[3]: \"agi\", \n",
    "                                      income_df.columns[4]: \"tot_inc_num_returns\", \n",
    "                                      income_df.columns[5]: \"tot_inc_amnt\"})\n",
    "income_df = income_df.iloc[3:12329]"
   ]
  },
  {
   "cell_type": "code",
   "execution_count": 4,
   "metadata": {},
   "outputs": [],
   "source": [
    "income_df['agi'] = income_df['agi']*1000\n",
    "income_df['tot_inc_amnt'] = income_df['tot_inc_amnt']*1000\n"
   ]
  },
  {
   "cell_type": "code",
   "execution_count": 5,
   "metadata": {},
   "outputs": [],
   "source": [
    "income_df.dropna(subset=['agi_bucket'],inplace=True)"
   ]
  },
  {
   "cell_type": "code",
   "execution_count": 6,
   "metadata": {},
   "outputs": [
    {
     "name": "stdout",
     "output_type": "stream",
     "text": [
      "<class 'pandas.core.frame.DataFrame'>\n",
      "Int64Index: 9246 entries, 3 to 12328\n",
      "Data columns (total 6 columns):\n",
      "zip_code               9246 non-null object\n",
      "agi_bucket             9246 non-null object\n",
      "num_returns            9246 non-null float64\n",
      "agi                    9246 non-null float64\n",
      "tot_inc_num_returns    9246 non-null object\n",
      "tot_inc_amnt           9246 non-null object\n",
      "dtypes: float64(2), object(4)\n",
      "memory usage: 505.6+ KB\n"
     ]
    }
   ],
   "source": [
    "income_df.info()"
   ]
  },
  {
   "cell_type": "code",
   "execution_count": 7,
   "metadata": {},
   "outputs": [],
   "source": [
    "income_df = income_df.iloc[6:-6] #remove Zipcodes 0 & 99999"
   ]
  },
  {
   "cell_type": "code",
   "execution_count": 8,
   "metadata": {},
   "outputs": [],
   "source": [
    "income_df.reset_index(drop=True,inplace=True)"
   ]
  },
  {
   "cell_type": "code",
   "execution_count": 9,
   "metadata": {},
   "outputs": [
    {
     "name": "stdout",
     "output_type": "stream",
     "text": [
      "<class 'pandas.core.frame.DataFrame'>\n",
      "RangeIndex: 9234 entries, 0 to 9233\n",
      "Data columns (total 6 columns):\n",
      "zip_code               9234 non-null object\n",
      "agi_bucket             9234 non-null object\n",
      "num_returns            9234 non-null float64\n",
      "agi                    9234 non-null float64\n",
      "tot_inc_num_returns    9234 non-null object\n",
      "tot_inc_amnt           9234 non-null object\n",
      "dtypes: float64(2), object(4)\n",
      "memory usage: 432.9+ KB\n"
     ]
    }
   ],
   "source": [
    "income_df.info()"
   ]
  },
  {
   "cell_type": "code",
   "execution_count": 10,
   "metadata": {},
   "outputs": [
    {
     "data": {
      "text/html": [
       "<div>\n",
       "<style scoped>\n",
       "    .dataframe tbody tr th:only-of-type {\n",
       "        vertical-align: middle;\n",
       "    }\n",
       "\n",
       "    .dataframe tbody tr th {\n",
       "        vertical-align: top;\n",
       "    }\n",
       "\n",
       "    .dataframe thead th {\n",
       "        text-align: right;\n",
       "    }\n",
       "</style>\n",
       "<table border=\"1\" class=\"dataframe\">\n",
       "  <thead>\n",
       "    <tr style=\"text-align: right;\">\n",
       "      <th></th>\n",
       "      <th>zip_code</th>\n",
       "      <th>agi_bucket</th>\n",
       "      <th>num_returns</th>\n",
       "      <th>agi</th>\n",
       "      <th>tot_inc_num_returns</th>\n",
       "      <th>tot_inc_amnt</th>\n",
       "    </tr>\n",
       "  </thead>\n",
       "  <tbody>\n",
       "    <tr>\n",
       "      <th>0</th>\n",
       "      <td>10001</td>\n",
       "      <td>$1 under $25,000</td>\n",
       "      <td>3740.0</td>\n",
       "      <td>43182000.0</td>\n",
       "      <td>3740</td>\n",
       "      <td>44849000</td>\n",
       "    </tr>\n",
       "    <tr>\n",
       "      <th>1</th>\n",
       "      <td>10001</td>\n",
       "      <td>$25,000 under $50,000</td>\n",
       "      <td>2500.0</td>\n",
       "      <td>92133000.0</td>\n",
       "      <td>2500</td>\n",
       "      <td>94324000</td>\n",
       "    </tr>\n",
       "    <tr>\n",
       "      <th>2</th>\n",
       "      <td>10001</td>\n",
       "      <td>$50,000 under $75,000</td>\n",
       "      <td>1950.0</td>\n",
       "      <td>120922000.0</td>\n",
       "      <td>1950</td>\n",
       "      <td>123197000</td>\n",
       "    </tr>\n",
       "    <tr>\n",
       "      <th>3</th>\n",
       "      <td>10001</td>\n",
       "      <td>$75,000 under $100,000</td>\n",
       "      <td>1410.0</td>\n",
       "      <td>121880000.0</td>\n",
       "      <td>1410</td>\n",
       "      <td>123605000</td>\n",
       "    </tr>\n",
       "    <tr>\n",
       "      <th>4</th>\n",
       "      <td>10001</td>\n",
       "      <td>$100,000 under $200,000</td>\n",
       "      <td>2580.0</td>\n",
       "      <td>361453000.0</td>\n",
       "      <td>2580</td>\n",
       "      <td>366195000</td>\n",
       "    </tr>\n",
       "  </tbody>\n",
       "</table>\n",
       "</div>"
      ],
      "text/plain": [
       "  zip_code               agi_bucket  num_returns          agi  \\\n",
       "0    10001         $1 under $25,000       3740.0   43182000.0   \n",
       "1    10001    $25,000 under $50,000       2500.0   92133000.0   \n",
       "2    10001    $50,000 under $75,000       1950.0  120922000.0   \n",
       "3    10001   $75,000 under $100,000       1410.0  121880000.0   \n",
       "4    10001  $100,000 under $200,000       2580.0  361453000.0   \n",
       "\n",
       "  tot_inc_num_returns tot_inc_amnt  \n",
       "0                3740     44849000  \n",
       "1                2500     94324000  \n",
       "2                1950    123197000  \n",
       "3                1410    123605000  \n",
       "4                2580    366195000  "
      ]
     },
     "execution_count": 10,
     "metadata": {},
     "output_type": "execute_result"
    }
   ],
   "source": [
    "income_df.head()"
   ]
  },
  {
   "cell_type": "code",
   "execution_count": 11,
   "metadata": {},
   "outputs": [
    {
     "data": {
      "text/html": [
       "<div>\n",
       "<style scoped>\n",
       "    .dataframe tbody tr th:only-of-type {\n",
       "        vertical-align: middle;\n",
       "    }\n",
       "\n",
       "    .dataframe tbody tr th {\n",
       "        vertical-align: top;\n",
       "    }\n",
       "\n",
       "    .dataframe thead th {\n",
       "        text-align: right;\n",
       "    }\n",
       "</style>\n",
       "<table border=\"1\" class=\"dataframe\">\n",
       "  <thead>\n",
       "    <tr style=\"text-align: right;\">\n",
       "      <th></th>\n",
       "      <th>zip_code</th>\n",
       "      <th>agi_bucket</th>\n",
       "      <th>num_returns</th>\n",
       "      <th>agi</th>\n",
       "      <th>tot_inc_num_returns</th>\n",
       "      <th>tot_inc_amnt</th>\n",
       "    </tr>\n",
       "  </thead>\n",
       "  <tbody>\n",
       "    <tr>\n",
       "      <th>1584</th>\n",
       "      <td>11355</td>\n",
       "      <td>$1 under $25,000</td>\n",
       "      <td>34950.0</td>\n",
       "      <td>401891000.0</td>\n",
       "      <td>34940</td>\n",
       "      <td>412155000</td>\n",
       "    </tr>\n",
       "    <tr>\n",
       "      <th>7067</th>\n",
       "      <td>13833</td>\n",
       "      <td>$200,000 or more</td>\n",
       "      <td>30.0</td>\n",
       "      <td>12181000.0</td>\n",
       "      <td>20</td>\n",
       "      <td>12181000</td>\n",
       "    </tr>\n",
       "    <tr>\n",
       "      <th>9105</th>\n",
       "      <td>14874</td>\n",
       "      <td>$75,000 under $100,000</td>\n",
       "      <td>20.0</td>\n",
       "      <td>2656000.0</td>\n",
       "      <td>30</td>\n",
       "      <td>2656000</td>\n",
       "    </tr>\n",
       "  </tbody>\n",
       "</table>\n",
       "</div>"
      ],
      "text/plain": [
       "     zip_code              agi_bucket  num_returns          agi  \\\n",
       "1584    11355        $1 under $25,000      34950.0  401891000.0   \n",
       "7067    13833        $200,000 or more         30.0   12181000.0   \n",
       "9105    14874  $75,000 under $100,000         20.0    2656000.0   \n",
       "\n",
       "     tot_inc_num_returns tot_inc_amnt  \n",
       "1584               34940    412155000  \n",
       "7067                  20     12181000  \n",
       "9105                  30      2656000  "
      ]
     },
     "execution_count": 11,
     "metadata": {},
     "output_type": "execute_result"
    }
   ],
   "source": [
    "income_df[income_df['tot_inc_num_returns'] != income_df['num_returns']]"
   ]
  },
  {
   "cell_type": "code",
   "execution_count": 12,
   "metadata": {
    "scrolled": true
   },
   "outputs": [
    {
     "data": {
      "text/plain": [
       "0       10001\n",
       "1       10001\n",
       "2       10001\n",
       "3       10001\n",
       "4       10001\n",
       "5       10001\n",
       "6       10002\n",
       "7       10002\n",
       "8       10002\n",
       "9       10002\n",
       "10      10002\n",
       "11      10002\n",
       "12      10003\n",
       "13      10003\n",
       "14      10003\n",
       "15      10003\n",
       "16      10003\n",
       "17      10003\n",
       "18      10004\n",
       "19      10004\n",
       "20      10004\n",
       "21      10004\n",
       "22      10004\n",
       "23      10004\n",
       "24      10005\n",
       "25      10005\n",
       "26      10005\n",
       "27      10005\n",
       "28      10005\n",
       "29      10005\n",
       "        ...  \n",
       "9204    14898\n",
       "9205    14898\n",
       "9206    14898\n",
       "9207    14898\n",
       "9208    14898\n",
       "9209    14898\n",
       "9210    14901\n",
       "9211    14901\n",
       "9212    14901\n",
       "9213    14901\n",
       "9214    14901\n",
       "9215    14901\n",
       "9216    14903\n",
       "9217    14903\n",
       "9218    14903\n",
       "9219    14903\n",
       "9220    14903\n",
       "9221    14903\n",
       "9222    14904\n",
       "9223    14904\n",
       "9224    14904\n",
       "9225    14904\n",
       "9226    14904\n",
       "9227    14904\n",
       "9228    14905\n",
       "9229    14905\n",
       "9230    14905\n",
       "9231    14905\n",
       "9232    14905\n",
       "9233    14905\n",
       "Name: zip_code, Length: 9234, dtype: int64"
      ]
     },
     "execution_count": 12,
     "metadata": {},
     "output_type": "execute_result"
    }
   ],
   "source": [
    "income_df['zip_code'].astype('int64')"
   ]
  },
  {
   "cell_type": "markdown",
   "metadata": {},
   "source": [
    "### Filter New York State zip codes down to only New York City zip codes"
   ]
  },
  {
   "cell_type": "code",
   "execution_count": 13,
   "metadata": {},
   "outputs": [],
   "source": [
    "nyc_zips_df = pd.read_csv('zip_borough.csv',usecols=[0]) #SOURCE: https://www.kaggle.com/kimjinyoung/nyc-borough-zip/downloads/nyc-borough-zip.zip/2\n"
   ]
  },
  {
   "cell_type": "code",
   "execution_count": 14,
   "metadata": {},
   "outputs": [
    {
     "data": {
      "text/html": [
       "<div>\n",
       "<style scoped>\n",
       "    .dataframe tbody tr th:only-of-type {\n",
       "        vertical-align: middle;\n",
       "    }\n",
       "\n",
       "    .dataframe tbody tr th {\n",
       "        vertical-align: top;\n",
       "    }\n",
       "\n",
       "    .dataframe thead th {\n",
       "        text-align: right;\n",
       "    }\n",
       "</style>\n",
       "<table border=\"1\" class=\"dataframe\">\n",
       "  <thead>\n",
       "    <tr style=\"text-align: right;\">\n",
       "      <th></th>\n",
       "      <th>zip</th>\n",
       "    </tr>\n",
       "  </thead>\n",
       "  <tbody>\n",
       "    <tr>\n",
       "      <th>0</th>\n",
       "      <td>10001</td>\n",
       "    </tr>\n",
       "    <tr>\n",
       "      <th>1</th>\n",
       "      <td>10002</td>\n",
       "    </tr>\n",
       "    <tr>\n",
       "      <th>2</th>\n",
       "      <td>10003</td>\n",
       "    </tr>\n",
       "    <tr>\n",
       "      <th>3</th>\n",
       "      <td>10004</td>\n",
       "    </tr>\n",
       "    <tr>\n",
       "      <th>4</th>\n",
       "      <td>10005</td>\n",
       "    </tr>\n",
       "  </tbody>\n",
       "</table>\n",
       "</div>"
      ],
      "text/plain": [
       "     zip\n",
       "0  10001\n",
       "1  10002\n",
       "2  10003\n",
       "3  10004\n",
       "4  10005"
      ]
     },
     "execution_count": 14,
     "metadata": {},
     "output_type": "execute_result"
    }
   ],
   "source": [
    "nyc_zips_df.head()"
   ]
  },
  {
   "cell_type": "code",
   "execution_count": 17,
   "metadata": {},
   "outputs": [],
   "source": [
    "income_df = income_df[income_df['zip_code'].isin(nyc_zips_df['zip'])].reset_index(drop=True)"
   ]
  },
  {
   "cell_type": "code",
   "execution_count": 22,
   "metadata": {},
   "outputs": [],
   "source": [
    "income_df['tot_inc_num_returns'] = income_df['tot_inc_num_returns'].astype('float64')\n",
    "income_df['tot_inc_amnt'] = income_df['tot_inc_amnt'].astype('float64')"
   ]
  },
  {
   "cell_type": "code",
   "execution_count": 23,
   "metadata": {},
   "outputs": [
    {
     "name": "stdout",
     "output_type": "stream",
     "text": [
      "<class 'pandas.core.frame.DataFrame'>\n",
      "RangeIndex: 1062 entries, 0 to 1061\n",
      "Data columns (total 6 columns):\n",
      "zip_code               1062 non-null object\n",
      "agi_bucket             1062 non-null object\n",
      "num_returns            1062 non-null float64\n",
      "agi                    1062 non-null float64\n",
      "tot_inc_num_returns    1062 non-null float64\n",
      "tot_inc_amnt           1062 non-null float64\n",
      "dtypes: float64(4), object(2)\n",
      "memory usage: 49.9+ KB\n"
     ]
    }
   ],
   "source": [
    "income_df.info()"
   ]
  },
  {
   "cell_type": "code",
   "execution_count": null,
   "metadata": {},
   "outputs": [],
   "source": []
  },
  {
   "cell_type": "code",
   "execution_count": null,
   "metadata": {},
   "outputs": [],
   "source": []
  },
  {
   "cell_type": "code",
   "execution_count": null,
   "metadata": {},
   "outputs": [],
   "source": [
    "playgrounds_df = pd.read_json('DPR_Playgrounds_001.json')\n",
    "parks_df = pd.read_json('DPR_Parks_001.json')\n",
    "nyc_zips_df = pd.read_csv('zip_borough.csv') "
   ]
  }
 ],
 "metadata": {
  "kernelspec": {
   "display_name": "Python 3",
   "language": "python",
   "name": "python3"
  },
  "language_info": {
   "codemirror_mode": {
    "name": "ipython",
    "version": 3
   },
   "file_extension": ".py",
   "mimetype": "text/x-python",
   "name": "python",
   "nbconvert_exporter": "python",
   "pygments_lexer": "ipython3",
   "version": "3.7.3"
  }
 },
 "nbformat": 4,
 "nbformat_minor": 2
}
